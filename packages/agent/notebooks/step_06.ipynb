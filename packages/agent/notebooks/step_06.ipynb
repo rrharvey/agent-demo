{
 "cells": [
  {
   "cell_type": "code",
   "execution_count": 1,
   "id": "1a6a6a59",
   "metadata": {},
   "outputs": [
    {
     "data": {
      "text/plain": [
       "True"
      ]
     },
     "execution_count": 1,
     "metadata": {},
     "output_type": "execute_result"
    }
   ],
   "source": [
    "from dotenv import load_dotenv\n",
    "load_dotenv()"
   ]
  },
  {
   "cell_type": "markdown",
   "id": "31265d6b",
   "metadata": {},
   "source": [
    "Define tool functions that we can use in our graph."
   ]
  },
  {
   "cell_type": "code",
   "execution_count": 2,
   "id": "81d50332",
   "metadata": {},
   "outputs": [],
   "source": [
    "from langchain_core.tools import tool\n",
    "\n",
    "# Tools\n",
    "\n",
    "@tool\n",
    "def get_projects():\n",
    "    \"\"\"\n",
    "    Returns a list of mock time entry projects for a software consulting company.\n",
    "    Each project includes client name, project name, and project ID.\n",
    "    \"\"\"\n",
    "    return [\n",
    "        {\n",
    "            \"client_name\": \"Acme Corporation\",\n",
    "            \"project_name\": \"E-commerce Platform Redesign\",\n",
    "            \"project_id\": \"aef12d88-e0ae-4949-b7a2-7704f3b0c1d0\"\n",
    "        },\n",
    "        {\n",
    "            \"client_name\": \"TechNova Inc.\",\n",
    "            \"project_name\": \"Mobile App Development\",\n",
    "            \"project_id\": \"b57cf8e2-3714-4b83-9d63-afcd23e0f87b\"\n",
    "        },\n",
    "        {\n",
    "            \"client_name\": \"Global Finance Group\",\n",
    "            \"project_name\": \"Payment Processing System\",\n",
    "            \"project_id\": \"c982b427-59a5-4c5e-b3f6-76ae4c1d9e5d\"\n",
    "        },\n",
    "        {\n",
    "            \"client_name\": \"HealthCare Solutions\",\n",
    "            \"project_name\": \"Patient Management Portal\",\n",
    "            \"project_id\": \"d341f57a-6890-4f13-a8de-92c23481b6c2\"\n",
    "        },\n",
    "        {\n",
    "            \"client_name\": \"EduTech Ventures\",\n",
    "            \"project_name\": \"Learning Management System\",\n",
    "            \"project_id\": \"e725d1b9-4a07-41b8-9c15-3f7b60c84a36\"\n",
    "        },\n",
    "        {\n",
    "            \"client_name\": \"Intertech\",\n",
    "            \"project_name\": \"Paid Time Off\",\n",
    "            \"project_id\": \"f109e384-5c27-49f5-b651-48e72a0dca7f\"\n",
    "        }\n",
    "    ]\n",
    "\n",
    "@tool\n",
    "def book_time_entry(clientName: str, projectName: str, projectId: str, date: str, hours: int):\n",
    "    \"\"\"\n",
    "    Books a time entry for a given project.\n",
    "\n",
    "    Args:\n",
    "        clientName (str): The name of the client.\n",
    "        projectName (str): The name of the project.\n",
    "        projectId (str): The unique identifier for the project.\n",
    "        date (str): The date for the time entry in ISO format (YYYY-MM-DD).\n",
    "        hours (int): The number of hours to book.\n",
    "    \"\"\"\n",
    "    return \"Time entry was created successfully.\"\n",
    "\n",
    "\n",
    "tools = [get_projects, book_time_entry]"
   ]
  },
  {
   "cell_type": "code",
   "execution_count": 3,
   "id": "81328667",
   "metadata": {},
   "outputs": [],
   "source": [
    "from langchain_anthropic import ChatAnthropic\n",
    "\n",
    "# Language Model\n",
    "llm = ChatAnthropic(model=\"claude-3-7-sonnet-20250219\").bind_tools(tools)"
   ]
  },
  {
   "cell_type": "code",
   "execution_count": null,
   "id": "680a0251",
   "metadata": {},
   "outputs": [
    {
     "data": {
      "image/png": "[encoded data removed]",
      "text/plain": [
       "<IPython.core.display.Image object>"
      ]
     },
     "metadata": {},
     "output_type": "display_data"
    }
   ],
   "source": [
    "from datetime import date\n",
    "from IPython.display import Image, display\n",
    "from langchain_anthropic import ChatAnthropic\n",
    "from langchain_core.messages import AIMessage, SystemMessage\n",
    "from langchain_core.tools import tool\n",
    "from langgraph.checkpoint.memory import MemorySaver\n",
    "from langgraph.graph import StateGraph, START, END, MessagesState\n",
    "from langgraph.prebuilt import ToolNode\n",
    "from langgraph.types import Command, interrupt\n",
    "from typing_extensions import TypedDict, Literal\n",
    "\n",
    "@tool\n",
    "def weather_search(city: str):\n",
    "    \"\"\"Search for the weather\"\"\"\n",
    "    print(\"----\")\n",
    "    print(f\"Searching for: {city}\")\n",
    "    print(\"----\")\n",
    "    return \"Sunny!\"\n",
    "\n",
    "# System message\n",
    "sys_msg = SystemMessage(content=f\"\"\"\n",
    "    You are a helpful assistant tasked with helping Intertech employees track time spent on projects.\n",
    "    Today is {date.today().isoformat()}.\n",
    "    \"\"\")\n",
    "\n",
    "model = ChatAnthropic(model_name=\"claude-3-5-sonnet-latest\").bind_tools(\n",
    "    [get_projects, book_time_entry]\n",
    ")\n",
    "\n",
    "\n",
    "class State(MessagesState):\n",
    "    \"\"\"Simple state.\"\"\"\n",
    "\n",
    "\n",
    "def assistant(state: MessagesState):\n",
    "    return {\"messages\": [llm.invoke([sys_msg] + state[\"messages\"])]}\n",
    "\n",
    "\n",
    "def human_review_node(state) -> Command[Literal[\"assistant\", \"tools\"]]:\n",
    "    last_message = state[\"messages\"][-1]\n",
    "    tool_call = last_message.tool_calls[-1]\n",
    "\n",
    "    if tool_call[\"name\"] == \"get_projects\":\n",
    "        # If the tool call is for get_projects, we don't need to ask for human review\n",
    "        return Command(goto=\"tools\")\n",
    "\n",
    "    args = tool_call[\"args\"]\n",
    "\n",
    "    # this is the value we'll be providing via Command(resume=<human_review>)\n",
    "    human_review = interrupt(\n",
    "        {\n",
    "            \"question\": f\"\"\"\n",
    "            Client: {args['clientName']}\n",
    "            Project: {args['projectName']}\n",
    "            Date: {args['date']}\n",
    "            Hours: {args['hours']}\n",
    "            Continue?\n",
    "            \"\"\",\n",
    "            # Surface tool calls for review\n",
    "            \"tool_call\": tool_call,\n",
    "        }\n",
    "    )\n",
    "\n",
    "    review_action = human_review[\"action\"]\n",
    "    review_data = human_review.get(\"data\")\n",
    "\n",
    "    # if approved, call the tool\n",
    "    if review_action == \"continue\":\n",
    "        return Command(goto=\"tools\")\n",
    "\n",
    "    # update the AI message AND call tools\n",
    "    elif review_action == \"update\":\n",
    "        updated_message = {\n",
    "            \"role\": \"ai\",\n",
    "            \"content\": last_message.content,\n",
    "            \"tool_calls\": [\n",
    "                {\n",
    "                    \"id\": tool_call[\"id\"],\n",
    "                    \"name\": tool_call[\"name\"],\n",
    "                    # This the update provided by the human\n",
    "                    \"args\": review_data,\n",
    "                }\n",
    "            ],\n",
    "            # This is important - this needs to be the same as the message you replacing!\n",
    "            # Otherwise, it will show up as a separate message\n",
    "            \"id\": last_message.id,\n",
    "        }\n",
    "        return Command(goto=\"tools\", update={\"messages\": [updated_message]})\n",
    "\n",
    "    # provide feedback to LLM\n",
    "    elif review_action == \"feedback\":\n",
    "        # NOTE: we're adding feedback message as a ToolMessage\n",
    "        # to preserve the correct order in the message history\n",
    "        # (AI messages with tool calls need to be followed by tool call messages)\n",
    "        tool_message = {\n",
    "            \"role\": \"tool\",\n",
    "            # This is our natural language feedback\n",
    "            \"content\": review_data,\n",
    "            \"name\": tool_call[\"name\"],\n",
    "            \"tool_call_id\": tool_call[\"id\"],\n",
    "        }\n",
    "        return Command(goto=\"assistant\", update={\"messages\": [tool_message]})\n",
    "\n",
    "\n",
    "\n",
    "def route_after_llm(state) -> Literal[END, \"human_review_node\"]:\n",
    "    if len(state[\"messages\"][-1].tool_calls) == 0:\n",
    "        return END\n",
    "    else:\n",
    "        return \"human_review_node\"\n",
    "\n",
    "\n",
    "builder = StateGraph(State)\n",
    "builder.add_node(assistant)\n",
    "builder.add_node(ToolNode([get_projects, book_time_entry]))\n",
    "builder.add_node(human_review_node)\n",
    "builder.add_edge(START, \"assistant\")\n",
    "builder.add_conditional_edges(\"assistant\", route_after_llm)\n",
    "builder.add_edge(\"tools\", \"assistant\")\n",
    "\n",
    "# Set up memory\n",
    "memory = MemorySaver()\n",
    "\n",
    "# Add\n",
    "graph = builder.compile(checkpointer=memory)\n",
    "\n",
    "# View\n",
    "display(Image(graph.get_graph().draw_mermaid_png()))"
   ]
  },
  {
   "cell_type": "code",
   "execution_count": 5,
   "id": "d58b247c",
   "metadata": {},
   "outputs": [
    {
     "name": "stdout",
     "output_type": "stream",
     "text": [
      "{'assistant': {'messages': [AIMessage(content=[{'text': \"I'll help you book a time entry for the Acme project from yesterday. Let me first check the project details to get the required information.\", 'type': 'text'}, {'id': 'toolu_016LavNHgufpeWbKsLYtVyy3', 'input': {}, 'name': 'get_projects', 'type': 'tool_use'}], additional_kwargs={}, response_metadata={'id': 'msg_01RnrcKGEXbTFmhFQJibuXpL', 'model': 'claude-3-5-sonnet-20241022', 'stop_reason': 'tool_use', 'stop_sequence': None, 'usage': {'cache_creation_input_tokens': 0, 'cache_read_input_tokens': 0, 'input_tokens': 592, 'output_tokens': 67}, 'model_name': 'claude-3-5-sonnet-20241022'}, id='run-387d9474-12bc-46d4-9120-e0d62f18f391-0', tool_calls=[{'name': 'get_projects', 'args': {}, 'id': 'toolu_016LavNHgufpeWbKsLYtVyy3', 'type': 'tool_call'}], usage_metadata={'input_tokens': 592, 'output_tokens': 67, 'total_tokens': 659, 'input_token_details': {'cache_read': 0, 'cache_creation': 0}})]}}\n",
      "\n",
      "\n",
      "{'human_review_node': None}\n",
      "\n",
      "\n",
      "{'tools': {'messages': [ToolMessage(content='[{\"client_name\": \"Acme Corporation\", \"project_name\": \"E-commerce Platform Redesign\", \"project_id\": \"aef12d88-e0ae-4949-b7a2-7704f3b0c1d0\"}, {\"client_name\": \"TechNova Inc.\", \"project_name\": \"Mobile App Development\", \"project_id\": \"b57cf8e2-3714-4b83-9d63-afcd23e0f87b\"}, {\"client_name\": \"Global Finance Group\", \"project_name\": \"Payment Processing System\", \"project_id\": \"c982b427-59a5-4c5e-b3f6-76ae4c1d9e5d\"}, {\"client_name\": \"HealthCare Solutions\", \"project_name\": \"Patient Management Portal\", \"project_id\": \"d341f57a-6890-4f13-a8de-92c23481b6c2\"}, {\"client_name\": \"EduTech Ventures\", \"project_name\": \"Learning Management System\", \"project_id\": \"e725d1b9-4a07-41b8-9c15-3f7b60c84a36\"}, {\"client_name\": \"Intertech\", \"project_name\": \"Paid Time Off\", \"project_id\": \"f109e384-5c27-49f5-b651-48e72a0dca7f\"}]', name='get_projects', id='71d1913f-896d-4e85-b5ae-58659c594d40', tool_call_id='toolu_016LavNHgufpeWbKsLYtVyy3')]}}\n",
      "\n",
      "\n",
      "{'assistant': {'messages': [AIMessage(content=[{'text': \"I've found the Acme Corporation project details. Let me book your time entry for yesterday.\", 'type': 'text'}, {'id': 'toolu_011syGPK4bs1KsEfzx6WQ8t5', 'input': {'clientName': 'Acme Corporation', 'projectName': 'E-commerce Platform Redesign', 'projectId': 'aef12d88-e0ae-4949-b7a2-7704f3b0c1d0', 'date': '2024-01-09', 'hours': 5}, 'name': 'book_time_entry', 'type': 'tool_use'}], additional_kwargs={}, response_metadata={'id': 'msg_01WLBC1nb2D3t4UqwpaeoyrD', 'model': 'claude-3-5-sonnet-20241022', 'stop_reason': 'tool_use', 'stop_sequence': None, 'usage': {'cache_creation_input_tokens': 0, 'cache_read_input_tokens': 0, 'input_tokens': 1012, 'output_tokens': 189}, 'model_name': 'claude-3-5-sonnet-20241022'}, id='run-653c9c09-3adc-49fa-a26e-5b1fcd65507c-0', tool_calls=[{'name': 'book_time_entry', 'args': {'clientName': 'Acme Corporation', 'projectName': 'E-commerce Platform Redesign', 'projectId': 'aef12d88-e0ae-4949-b7a2-7704f3b0c1d0', 'date': '2024-01-09', 'hours': 5}, 'id': 'toolu_011syGPK4bs1KsEfzx6WQ8t5', 'type': 'tool_call'}], usage_metadata={'input_tokens': 1012, 'output_tokens': 189, 'total_tokens': 1201, 'input_token_details': {'cache_read': 0, 'cache_creation': 0}})]}}\n",
      "\n",
      "\n",
      "{'__interrupt__': (Interrupt(value={'question': '\\n            Client: Acme Corporation\\n            Project: E-commerce Platform Redesign\\n            Date: 2024-01-09\\n            Hours: 5\\n            Continue?\\n            ', 'tool_call': {'name': 'book_time_entry', 'args': {'clientName': 'Acme Corporation', 'projectName': 'E-commerce Platform Redesign', 'projectId': 'aef12d88-e0ae-4949-b7a2-7704f3b0c1d0', 'date': '2024-01-09', 'hours': 5}, 'id': 'toolu_011syGPK4bs1KsEfzx6WQ8t5', 'type': 'tool_call'}}, resumable=True, ns=['human_review_node:d2c0edee-3d1f-db09-d36c-507bc9d208cd']),)}\n",
      "\n",
      "\n"
     ]
    }
   ],
   "source": [
    "# Input\n",
    "initial_input = {\"messages\": [{\"role\": \"user\", \"content\": \"I worked on Acme for 5 hours yesterday\"}]}\n",
    "\n",
    "# Thread\n",
    "thread = {\"configurable\": {\"thread_id\": \"1\"}}\n",
    "\n",
    "# Run the graph until the first interruption\n",
    "for event in graph.stream(initial_input, thread, stream_mode=\"updates\"):\n",
    "    print(event)\n",
    "    print(\"\\n\")"
   ]
  },
  {
   "cell_type": "code",
   "execution_count": 6,
   "id": "4af6ea46",
   "metadata": {},
   "outputs": [
    {
     "name": "stdout",
     "output_type": "stream",
     "text": [
      "==================================\u001b[1m Ai Message \u001b[0m==================================\n",
      "\n",
      "[{'text': \"I've found the Acme Corporation project details. Let me book your time entry for yesterday.\", 'type': 'text'}, {'id': 'toolu_011syGPK4bs1KsEfzx6WQ8t5', 'input': {'clientName': 'Acme Corporation', 'projectName': 'E-commerce Platform Redesign', 'projectId': 'aef12d88-e0ae-4949-b7a2-7704f3b0c1d0', 'date': '2024-01-09', 'hours': 5}, 'name': 'book_time_entry', 'type': 'tool_use'}]\n",
      "Tool Calls:\n",
      "  book_time_entry (toolu_011syGPK4bs1KsEfzx6WQ8t5)\n",
      " Call ID: toolu_011syGPK4bs1KsEfzx6WQ8t5\n",
      "  Args:\n",
      "    clientName: Acme Corporation\n",
      "    projectName: E-commerce Platform Redesign\n",
      "    projectId: aef12d88-e0ae-4949-b7a2-7704f3b0c1d0\n",
      "    date: 2024-01-09\n",
      "    hours: 5\n",
      "None\n",
      "\n",
      "Next Node:\n",
      "('human_review_node',)\n"
     ]
    }
   ],
   "source": [
    "state = graph.get_state(thread)\n",
    "print(state.values[\"messages\"][-1].pretty_print())\n",
    "print(\"\\nNext Node:\")\n",
    "print(state.next)\n"
   ]
  },
  {
   "cell_type": "code",
   "execution_count": 7,
   "id": "da25a893",
   "metadata": {},
   "outputs": [
    {
     "name": "stdout",
     "output_type": "stream",
     "text": [
      "{'human_review_node': None}\n",
      "\n",
      "\n",
      "{'tools': {'messages': [ToolMessage(content='Time entry was created successfully.', name='book_time_entry', id='20fd7113-8bd8-4783-bf9b-3f6519d38b13', tool_call_id='toolu_011syGPK4bs1KsEfzx6WQ8t5')]}}\n",
      "\n",
      "\n",
      "{'assistant': {'messages': [AIMessage(content=\"I've booked 5 hours for yesterday on the Acme Corporation E-commerce Platform Redesign project. The time entry has been created successfully. Is there anything else you need help with?\", additional_kwargs={}, response_metadata={'id': 'msg_01WQ6KigHqtC3cwkjLbFA1Hg', 'model': 'claude-3-5-sonnet-20241022', 'stop_reason': 'end_turn', 'stop_sequence': None, 'usage': {'cache_creation_input_tokens': 0, 'cache_read_input_tokens': 0, 'input_tokens': 1217, 'output_tokens': 46}, 'model_name': 'claude-3-5-sonnet-20241022'}, id='run-358373de-f2c0-46ce-93cb-6e43a86be372-0', usage_metadata={'input_tokens': 1217, 'output_tokens': 46, 'total_tokens': 1263, 'input_token_details': {'cache_read': 0, 'cache_creation': 0}})]}}\n",
      "\n",
      "\n"
     ]
    }
   ],
   "source": [
    "for event in graph.stream(\n",
    "    # provide value\n",
    "    Command(resume={\"action\": \"continue\"}),\n",
    "    thread,\n",
    "    stream_mode=\"updates\",\n",
    "):\n",
    "    print(event)\n",
    "    print(\"\\n\")"
   ]
  }
 ],
 "metadata": {
  "kernelspec": {
   "display_name": ".venv",
   "language": "python",
   "name": "python3"
  },
  "language_info": {
   "codemirror_mode": {
    "name": "ipython",
    "version": 3
   },
   "file_extension": ".py",
   "mimetype": "text/x-python",
   "name": "python",
   "nbconvert_exporter": "python",
   "pygments_lexer": "ipython3",
   "version": "3.11.2"
  }
 },
 "nbformat": 4,
 "nbformat_minor": 5
}

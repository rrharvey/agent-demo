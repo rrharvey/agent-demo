{
 "cells": [
  {
   "cell_type": "code",
   "execution_count": null,
   "id": "1a6a6a59",
   "metadata": {},
   "outputs": [],
   "source": [
    "from dotenv import load_dotenv\n",
    "load_dotenv()"
   ]
  },
  {
   "cell_type": "markdown",
   "id": "31265d6b",
   "metadata": {},
   "source": [
    "- Change the parameter in _book_time_entry_ to __projectId__\n",
    "- Add a new tool that gets a project list"
   ]
  },
  {
   "cell_type": "code",
   "execution_count": null,
   "id": "81d50332",
   "metadata": {},
   "outputs": [],
   "source": [
    "from langchain_core.tools import tool\n",
    "\n",
    "# Tools\n",
    "\n",
    "@tool\n",
    "def get_projects():\n",
    "    \"\"\"\n",
    "    Returns a list of mock time entry projects for a software consulting company.\n",
    "    Each project includes client name, project name, and project ID.\n",
    "    \"\"\"\n",
    "    return [\n",
    "        {\n",
    "            \"client_name\": \"Acme Corporation\",\n",
    "            \"project_name\": \"E-commerce Platform Redesign\",\n",
    "            \"project_id\": \"aef12d88-e0ae-4949-b7a2-7704f3b0c1d0\"\n",
    "        },\n",
    "        {\n",
    "            \"client_name\": \"TechNova Inc.\",\n",
    "            \"project_name\": \"Mobile App Development\",\n",
    "            \"project_id\": \"b57cf8e2-3714-4b83-9d63-afcd23e0f87b\"\n",
    "        },\n",
    "        {\n",
    "            \"client_name\": \"Global Finance Group\",\n",
    "            \"project_name\": \"Payment Processing System\",\n",
    "            \"project_id\": \"c982b427-59a5-4c5e-b3f6-76ae4c1d9e5d\"\n",
    "        },\n",
    "        {\n",
    "            \"client_name\": \"HealthCare Solutions\",\n",
    "            \"project_name\": \"Patient Management Portal\",\n",
    "            \"project_id\": \"d341f57a-6890-4f13-a8de-92c23481b6c2\"\n",
    "        },\n",
    "        {\n",
    "            \"client_name\": \"EduTech Ventures\",\n",
    "            \"project_name\": \"Learning Management System\",\n",
    "            \"project_id\": \"e725d1b9-4a07-41b8-9c15-3f7b60c84a36\"\n",
    "        },\n",
    "        {\n",
    "            \"client_name\": \"Intertech\",\n",
    "            \"project_name\": \"Paid Time Off\",\n",
    "            \"project_id\": \"f109e384-5c27-49f5-b651-48e72a0dca7f\"\n",
    "        }\n",
    "    ]\n",
    "\n",
    "@tool\n",
    "def book_time_entry(projectId: str, date, hours: int = 8):\n",
    "    \"\"\"\n",
    "    Book time entry for a project.\n",
    "    Args:\n",
    "        projectId (str): The unique ID of the project.\n",
    "        date (str): The date for the time entry.\n",
    "        hours (int): The number of hours to book.\n",
    "    \"\"\"\n",
    "    return f\"Booked {hours} hours on {date} for {projectId}.\"\n",
    "\n",
    "tools = [get_projects, book_time_entry]"
   ]
  },
  {
   "cell_type": "markdown",
   "id": "ec336a12",
   "metadata": {},
   "source": [
    "Define a langauage model and bind the tools."
   ]
  },
  {
   "cell_type": "code",
   "execution_count": null,
   "id": "81328667",
   "metadata": {},
   "outputs": [],
   "source": [
    "from langchain_anthropic import ChatAnthropic\n",
    "\n",
    "# Language Model\n",
    "llm = ChatAnthropic(model=\"claude-3-7-sonnet-20250219\")\n",
    "llm = llm.bind_tools(tools)"
   ]
  },
  {
   "cell_type": "markdown",
   "id": "37b897ae",
   "metadata": {},
   "source": [
    "Build our graph."
   ]
  },
  {
   "cell_type": "code",
   "execution_count": null,
   "id": "e82c6a25",
   "metadata": {},
   "outputs": [],
   "source": [
    "from datetime import date\n",
    "from langchain_core.messages import HumanMessage, SystemMessage\n",
    "from langgraph.checkpoint.memory import MemorySaver\n",
    "from langgraph.graph import MessagesState, StateGraph, START\n",
    "from langgraph.prebuilt import ToolNode, tools_condition\n",
    "\n",
    "# Graph\n",
    "builder = StateGraph(MessagesState)\n",
    "\n",
    "# System message\n",
    "sys_msg = SystemMessage(content=f\"\"\"\n",
    "    You are a helpful assistant tasked with helping Intertech employees track time spent on projects.\n",
    "    Today is {date.today().isoformat()}.\n",
    "    \"\"\")\n",
    "\n",
    "# Nodes\n",
    "\n",
    "def assistant(state: MessagesState):\n",
    "    return {\"messages\": [llm.invoke([sys_msg] + state[\"messages\"])]}\n",
    "\n",
    "builder.add_node(\"assistant\", assistant)\n",
    "builder.add_node(\"tools\", ToolNode(tools))\n",
    "\n",
    "# Edges\n",
    "builder.add_edge(START, \"assistant\")\n",
    "builder.add_conditional_edges(\"assistant\", tools_condition)\n",
    "builder.add_edge(\"tools\", \"assistant\")\n",
    "\n",
    "# Build the graph\n",
    "memory = MemorySaver()\n",
    "graph = builder.compile(checkpointer=memory)"
   ]
  },
  {
   "cell_type": "markdown",
   "id": "08113a7b",
   "metadata": {},
   "source": [
    "Display the graph."
   ]
  },
  {
   "cell_type": "code",
   "execution_count": null,
   "id": "46855b50",
   "metadata": {},
   "outputs": [],
   "source": [
    "\n",
    "from IPython.display import Image, display\n",
    "\n",
    "# Show\n",
    "display(Image(graph.get_graph(xray=True).draw_mermaid_png()))"
   ]
  },
  {
   "cell_type": "code",
   "execution_count": null,
   "id": "3ae89348",
   "metadata": {},
   "outputs": [],
   "source": [
    "config = {\"configurable\": {\"thread_id\": \"1\"}}\n",
    "\n",
    "messages = [HumanMessage(content=\"I took PTO on Monday.\")]\n",
    "messages = graph.invoke({\"messages\": messages}, config)\n",
    "\n",
    "for m in messages['messages']:\n",
    "    m.pretty_print()"
   ]
  }
 ],
 "metadata": {
  "kernelspec": {
   "display_name": ".venv",
   "language": "python",
   "name": "python3"
  },
  "language_info": {
   "codemirror_mode": {
    "name": "ipython",
    "version": 3
   },
   "file_extension": ".py",
   "mimetype": "text/x-python",
   "name": "python",
   "nbconvert_exporter": "python",
   "pygments_lexer": "ipython3",
   "version": "3.11.2"
  }
 },
 "nbformat": 4,
 "nbformat_minor": 5
}
